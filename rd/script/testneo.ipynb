{
 "cells": [
  {
   "cell_type": "code",
   "execution_count": 1,
   "id": "b4f5ec73-fc59-49e3-a6da-e0a4f725cfe6",
   "metadata": {},
   "outputs": [],
   "source": [
    "import databaseUtils.Request_builder as request_Builder\n",
    "import databaseUtils.Utils as databaseUtils"
   ]
  },
  {
   "cell_type": "code",
   "execution_count": 5,
   "id": "a0d18f55-c15b-48d0-bf7e-99a4654a5261",
   "metadata": {},
   "outputs": [
    {
     "name": "stdout",
     "output_type": "stream",
     "text": [
      "\n",
      "            CALL {\n",
      "                MATCH path=(i:IO {term: 'in1' })-[:inputOf|outputOf *1..2]->(o:IO {term: 'ou1' })\n",
      "                // WHERE pour éviter de boucler sur une même fonction\n",
      "                WHERE NONE (n IN nodes(path) WHERE size([x IN nodes(path) WHERE n = x]) > 1 )\n",
      "                RETURN path\n",
      "                LIMIT 5\n",
      "                }\n",
      "            //\n",
      "            // pour l'instant un workflow est un unique chemin\n",
      "            // mais est quand même représenté une liste de chemins (de 1 élément)\n",
      "            WITH apoc.path.elements(path) AS pathAsList\n",
      "            WITH [x in pathAsList | ID(x)] AS pathAsIdList\n",
      "            WITH [pathAsIdList] AS workflow\n",
      "            WITH collect(workflow) as workflowList\n",
      "            \n",
      "            CALL {\n",
      "                WITH workflowList\n",
      "                UNWIND workflowList AS pathList\n",
      "                UNWIND pathList AS pathAsIdList\n",
      "                UNWIND pathAsIdList AS stepID // pour chaque étape de workflow\n",
      "                // on va chercher l'outil qui contient la fonction utilisée\n",
      "                // remarque : on filtre en même temps sur le type de noeud\n",
      "                // si le noeud n'est pas une fonction, le match ne renvoie rien \n",
      "                // et on passe à la valeur suivante sans exécuter la suite\n",
      "                MATCH (t:Tool)--(f:Function) WHERE ID(f)=stepID\n",
      "                WITH { id:ID(f), label:labels(f)[0], properties: properties(f) } AS function,\n",
      "                     { id:ID(t), label:labels(t)[0], properties: properties(t) } AS tool, f\n",
      "                // on va maintenant chercher les entrées/sorties de la fonction\n",
      "                CALL { // les entrées\n",
      "                    WITH f\n",
      "                    MATCH (f)-[i:inputOf]-(io: IO)\n",
      "                    WITH { id:ID(io), label:labels(io)[0], properties: properties(io) } AS inputNode,\n",
      "                         { id:ID(i), type:type(i), properties: properties(i)} AS ioRelation\n",
      "                    RETURN {node: inputNode, relation: ioRelation} AS input\n",
      "                }\n",
      "                WITH collect(input) as inputList, function, tool, f\n",
      "                CALL { // les sorties\n",
      "                    WITH f\n",
      "                    MATCH (f)-[o:outputOf]-(io: IO)\n",
      "                    WITH { id:ID(io), label:labels(io)[0], properties: properties(io) } AS outputNode,\n",
      "                         { id:ID(o), type:type(o), properties: properties(o)} AS ioRelation\n",
      "                    RETURN {node: outputNode, relation: ioRelation} AS output\n",
      "                }\n",
      "                WITH collect(output) AS outputList, inputList, function, tool\n",
      "                // on peut renvoyer toutes les informations intéressantes sur la fonction utilisée dans le workflow\n",
      "                return { function: function, tool: tool, inputList: inputList, outputList: outputList} AS node\n",
      "            }\n",
      "            // on récupère le tout dans la liste 'nodes'\n",
      "            WITH collect(node) AS nodes, workflowList\n",
      "            \n",
      "            CALL {\n",
      "                WITH workflowList\n",
      "                UNWIND workflowList AS pathList\n",
      "                UNWIND pathList AS pathAsIdList\n",
      "                UNWIND pathAsIdList AS stepID\n",
      "                WITH collect( DISTINCT stepID) as filtered // supprime les doublons\n",
      "                UNWIND filtered AS stepID\n",
      "                \n",
      "                MATCH (a)-[r]->(b) WHERE ID(r)=stepID\n",
      "                WITH ID(a) as s, ID(b) as e, r\n",
      "                WITH { id:ID(r), start: s, end: e, properties: properties(r) } AS relationship\n",
      "                RETURN relationship\n",
      "            }\n",
      "            WITH collect(relationship) AS relationships, nodes, workflowList\n",
      "            \n",
      "            RETURN { workflows: workflowList, nodes: nodes, relationships: relationships } AS result\n",
      "            \n"
     ]
    }
   ],
   "source": [
    "\n",
    "context=dict()\n",
    "context['input']=\"in1\"\n",
    "output=context['output']=\"ou1\"\n",
    "context['limit']=5\n",
    "context['depth']=2\n",
    "parameters = databaseUtils.Param(input=context['input'], output=context['output'], limit=context['limit'], depth=context['depth'])\n",
    "builder = request_Builder.Requete(parameters)\n",
    "cypher=builder.creer_Requete()\n",
    "print(cypher)\n",
    "\"\"\"\n",
    "    builder.creer_Requete()\n",
    "    utils = create_utils()\n",
    "    result = utils.request(builder.requete)\n",
    "    # print(\"La requête : \")\n",
    "    # print(builder.requete)\n",
    "    # print(\"Le résultat : \")\n",
    "    # print(json.dumps(result, indent=2))\n",
    "\"\"\""
   ]
  },
  {
   "cell_type": "code",
   "execution_count": null,
   "id": "803413f8-6672-4388-8785-3adbdedd2e52",
   "metadata": {},
   "outputs": [],
   "source": []
  }
 ],
 "metadata": {
  "kernelspec": {
   "display_name": "Python 3 (ipykernel)",
   "language": "python",
   "name": "python3"
  },
  "language_info": {
   "codemirror_mode": {
    "name": "ipython",
    "version": 3
   },
   "file_extension": ".py",
   "mimetype": "text/x-python",
   "name": "python",
   "nbconvert_exporter": "python",
   "pygments_lexer": "ipython3",
   "version": "3.9.7"
  }
 },
 "nbformat": 4,
 "nbformat_minor": 5
}
