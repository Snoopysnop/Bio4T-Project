{
 "cells": [
  {
   "cell_type": "markdown",
   "id": "4543328b",
   "metadata": {},
   "source": [
    "# Script d'import des données de bio.tools dans Neo4j\n",
    "\n",
    "## Initialisation de la connexion avec la base de donnée:"
   ]
  },
  {
   "cell_type": "code",
   "execution_count": 1,
   "id": "46ce5b30",
   "metadata": {},
   "outputs": [],
   "source": [
    "from py2neo import *\n",
    "import json\n",
    "IP=\"bolt://localhost:7687\"\n",
    "USER=\"neo4j\"\n",
    "PASSWORD=\"pass\"\n",
    "graph_db = Graph(IP, auth=(USER, PASSWORD))"
   ]
  },
  {
   "cell_type": "markdown",
   "id": "d444db86",
   "metadata": {},
   "source": [
    "Nettoyage de la BDD par morceaux pour éviter le chargement de toutes les données en RAM:"
   ]
  },
  {
   "cell_type": "code",
   "execution_count": 2,
   "id": "83793668",
   "metadata": {},
   "outputs": [
    {
     "data": {
      "text/plain": " updates | executions | runtime | batches | failedBatches | batchErrors | failedCommits | commitErrors | wasTerminated \n---------|------------|---------|---------|---------------|-------------|---------------|--------------|---------------\n  153690 |          1 |      12 |       2 |             0 | {}          |             0 | {}           | false         ",
      "text/html": "<table><tr><th>updates</th><th>executions</th><th>runtime</th><th>batches</th><th>failedBatches</th><th>batchErrors</th><th>failedCommits</th><th>commitErrors</th><th>wasTerminated</th></tr><tr><td style=\"text-align:right\">153690</td><td style=\"text-align:right\">1</td><td style=\"text-align:right\">12</td><td style=\"text-align:right\">2</td><td style=\"text-align:right\">0</td><td style=\"text-align:left\">{}</td><td style=\"text-align:right\">0</td><td style=\"text-align:left\">{}</td><td style=\"text-align:left\">false</td></tr></table>"
     },
     "execution_count": 2,
     "metadata": {},
     "output_type": "execute_result"
    }
   ],
   "source": [
    "graph_db.run(\"\"\"CALL apoc.periodic.commit(\"MATCH (n) DETACH DELETE n RETURN Count(*) LIMIT 1000\", {limit:1000});\"\"\")"
   ]
  },
  {
   "cell_type": "markdown",
   "id": "8f550158",
   "metadata": {
    "scrolled": true
   },
   "source": [
    "### Commande naïve décortiquant le JSON en utilisant UNWIND\n",
    "\n",
    "apoc.periodic.iterate permet de découper la liste des outils présente dans le fichier JSON. IL prend une première requête en arguments qui doit renvoyer une liste d'élément. La deuxième requête s'execute sur chaque élément de la liste.\n",
    "batchSize:1000 permet de faire un commit tout les 1000 éléments de la liste.\n",
    "\n",
    "UNWIND parcourt les éléments d'une liste, il a l'inconvénient de mal supporter les imbrications de boucles (nécéssite un renomage des éléments (WITH) à chaque imbriation (et difficile de mettre des boucles à la suite)\n",
    "    \n",
    "```\n",
    "   commande = \"\"\"CALL apoc.periodic.iterate(\n",
    "    \"CALL apoc.load.json('file:///datatest.json') YIELD value\",\n",
    "    \"UNWIND value.list AS elt\n",
    "        MERGE (t:Tool {name: elt.name})\n",
    "        ON CREATE SET t.description= elt.description, \n",
    "                    t.homepage= elt.homepage, \n",
    "                    t.toolLanguage= elt.language, \n",
    "                    t.toolOS= elt.operatingSystem, \n",
    "                    t.toolType= elt.toolType\n",
    "        \n",
    "        WITH t AS theToolNode, elt AS theElt\n",
    "        UNWIND theElt.function AS fun\n",
    "            MERGE (f:Function {uid: apoc.create.uuid()})\n",
    "            MERGE (theToolNode)-[:hasFunction]->(f)\n",
    "            WITH f AS theFunctionNode, fun AS theFunction, theToolNode AS theToolNode\n",
    "                UNWIND theFunction.input AS input\n",
    "                UNWIND theFunction.output AS output\n",
    "                \n",
    "                    MERGE (i:IO {name: input.data['term']})\n",
    "                    ON CREATE SET i.name= input.data['term']\n",
    "                    MERGE (theFunctionNode)<-[r:inputOf]-(i)\n",
    "                    \n",
    "                    MERGE (o:IO {name: output.data['term']})\n",
    "                    ON CREATE SET o.name= output.data['term']\n",
    "                    MERGE (theFunctionNode)-[:outputOf]->(o)\",\n",
    "                    \n",
    "    {batchSize:10, iterateList:true});\n",
    "\"\"\"\n",
    "res = graph_db.run(commande)\n",
    "```"
   ]
  },
  {
   "cell_type": "markdown",
   "id": "376d52d9",
   "metadata": {},
   "source": [
    "### Commande d'importation en parcourant le JSON et à partir d'une BDD vide\n",
    "\n",
    "***Le graphe doit être vide avant d'executer la requête car les CREATE présents dupliqueraient certains noeuds/relations***\n",
    "\n",
    "Cette requête utilise des boucles FOREACH plutôt que des UNWIND, qui sont bien plus facile à manipuler\n",
    "La première requête renvoie la liste d'outils présents dans le JSON, et pour chaque outils on lit ses données et on les importe dans le graphe.\n",
    "\n",
    "Remarques:\n",
    "- Un noeud/une relation ne peut stocker que des types élémentaires (String, Int) et des listes de ceux-ci\n",
    "- J'ai fait le choix de créer des noeuds annexes autour des outils pour garder la structure présente dans la base de donnée de bio.tools (par exemple un noeud 'link' stockant les infos sur un lien exeterne).\n",
    "- Je n'ai pas importé des données en lien avec les 'community' car je n'ai pas encore trouvé d'exemple pour voir la structure du JSON à cet endroit\n",
    "- Un batchsize de 10000 importe les données en 3 min sur mon pc. (environ 170.000 noeuds et 360.000 relations)"
   ]
  },
  {
   "cell_type": "code",
   "execution_count": 6,
   "id": "9514cf28",
   "metadata": {},
   "outputs": [
    {
     "name": "stdout",
     "output_type": "stream",
     "text": [
      " timeTaken | batches | committedOperations \r\n",
      "-----------|---------|---------------------\r\n",
      "         1 |       1 |                 300 \r\n",
      "\n"
     ]
    }
   ],
   "source": [
    "# Nettoyage avant importation\n",
    "graph_db.run(\"\"\"CALL apoc.periodic.commit(\"MATCH (n) DETACH DELETE n RETURN Count(*) LIMIT 10000\", {limit:10000});\"\"\")\n",
    "\n",
    "#voir page 17 de l'api pour exemple sympa\n",
    "commande = \"\"\"CALL apoc.periodic.iterate(\n",
    "    \"CALL apoc.load.json('file:///datatest.json', '$.list') YIELD value RETURN value AS tool\",\n",
    "    \"MERGE (t:Tool {name: tool.name})\n",
    "        ON CREATE SET t.description= tool.description, \n",
    "                    t.homepage= tool.homepage,\n",
    "                    t.license= tool.license,\n",
    "                    t.collectionID= tool.collectionID,\n",
    "                    t.maturity= tool.maturity,\n",
    "                    t.cost= tool.cost,\n",
    "                    t.accessibility= tool.accessibility,\n",
    "                    // Check if complex datatype for elixir..\n",
    "                    t.elixirPlatform= tool.elixirPlatform,\n",
    "                    t.elixirNode= tool.elixirNode,\n",
    "                    t.elixirCommunity= tool.elixirCommunity,\n",
    "                    //TODO add community (Map mais pas dans l'exemple page 17)\n",
    "                    //t.community = tool.community,\n",
    "                    t.owner = tool.owner,\n",
    "                    t.additionDate= tool.additionDate,\n",
    "                    t.lastUpdate= tool.lastUpdate,\n",
    "                    t.validated= tool.validated,\n",
    "                    t.homepageStatus= tool.homepage_status,\n",
    "                    t.elixirBadge= tool.elixir_badge,\n",
    "                    t.confidenceFlag= tool.confidence_flag\n",
    "                    \n",
    "        \n",
    "        foreach (function in tool.function |\n",
    "            CREATE (f:Function {note: function.note, cmd: function.cmd})\n",
    "            MERGE (t)-[:hasFunction]-(f)\n",
    "            \n",
    "            //add the operations of the functions\n",
    "            foreach(operation in function.operation |\n",
    "                MERGE (op:Operation {term: operation.term, uri: operation.uri})\n",
    "                MERGE (f)-[:doOperation]-(op)\n",
    "            )\n",
    "            \n",
    "            //add the inputs of the function\n",
    "            foreach(input in function.input |\n",
    "                MERGE (i:IO {term: input.data.term, uri: input.data.uri})\n",
    "                MERGE (i)-[rel:inputOf]->(f)\n",
    "                SET rel.format = []\n",
    "                // the formats are linked to the function via the relation\n",
    "                foreach(format in input.format |\n",
    "                    SET rel.format = rel.format + apoc.convert.toJson({term:format.term, uri: format.uri})\n",
    "                )\n",
    "            )\n",
    "\n",
    "            //add the outputs of the function\n",
    "            foreach(output in function.output |\n",
    "                MERGE (o:IO {term: output.data.term, uri: output.data.uri})\n",
    "                MERGE (o)<-[rel:outputOf]-(f)\n",
    "                SET rel.format = []\n",
    "                // the formats are linked to the function via the relation\n",
    "                foreach(format in output.format |\n",
    "                    SET rel.format = rel.format + apoc.convert.toJson({term:format.term, uri: format.uri})\n",
    "                )\n",
    "            )\n",
    "        )\n",
    "            \n",
    "        //add tooltype of the node\n",
    "        SET t.toolType=[]\n",
    "        foreach (toolType in tool.toolType |\n",
    "            SET t.toolType = t.toolType + toolType\n",
    "        )\n",
    "\n",
    "        //add the topics\n",
    "        foreach(topic in tool.topic |\n",
    "            MERGE (top:Topic {term: topic.term, uri:topic.uri})\n",
    "            MERGE (t)-[:Topic]-(top)\n",
    "        )\n",
    "\n",
    "        //add OSs\n",
    "        foreach(operatingSystem in tool.operatingSystem |\n",
    "            MERGE (os:OS {name: operatingSystem})\n",
    "            MERGE (t)-[:OS]-(os)\n",
    "        )\n",
    "\n",
    "        //add languages\n",
    "        foreach(language in tool.language |\n",
    "            MERGE (l:Language {name:language})\n",
    "            MERGE (t)-[:Language]-(l)\n",
    "        )\n",
    "\n",
    "        //add links\n",
    "        foreach (link in tool.link |\n",
    "            CREATE (l:Link {url: link.url, type: link.type, note: link.note})\n",
    "            CREATE (t)-[:Link]->(l)\n",
    "        )\n",
    "\n",
    "        //add publications (ids of the publication in the relation, then metadata in the node\n",
    "        foreach(pub in tool.publication |\n",
    "            CREATE (p:Publication {title: pub.metadata.title,\n",
    "                                abstract: pub.metadata.abstract,\n",
    "                                date: pub.metadata.date,\n",
    "                                citationCount: pub.metadata.citationCount,\n",
    "                                authors: [], // authors is a list of Map{name->String}\n",
    "                                journal: pub.metadata.journal })\n",
    "            foreach(author in pub.metadata.authors | SET p.authors= p.authors + author['name']) // create the list of authors\n",
    "\n",
    "            CREATE (t)-[:Publication {doi: pub.doi,\n",
    "                                    pmid: pub.pmid,\n",
    "                                    pmcid: pub.pmcid,\n",
    "                                    type: pub.type,\n",
    "                                    version: pub.version,\n",
    "                                    note: pub.note} ]   ->(p)\n",
    "        )\n",
    "\n",
    "        //credits\n",
    "        foreach(credit in tool.credit |\n",
    "            CREATE (cred:Credit {name: credit.name,\n",
    "                                email: credit.email,\n",
    "                                url: credit.url,\n",
    "                                orcidid: credit.orcidid,\n",
    "                                gridid: credit.gridid,\n",
    "                                rorid: credit.rorid,\n",
    "                                fundrefid: credit.fundredid,\n",
    "                                typeEntity: credit.typeEntity,\n",
    "                                typeRole: credit.typeRole,\n",
    "                                note: credit.note })\n",
    "            CREATE (t)-[:Credit]->(cred)\n",
    "        )\n",
    "\n",
    "        //edit permission\n",
    "        CREATE (ep:EditPermission {type: tool.editPermission.type,\n",
    "                                   authors: tool.editPermission.authors })\n",
    "        CREATE (t)-[:EditPermission]->(ep)\n",
    "\n",
    "        //downloads\n",
    "        foreach(dl in tool.download |\n",
    "            CREATE (d:Download {url: dl.url, type: dl.type, note: dl.note, version: dl.version})\n",
    "            CREATE (t)-[:Download]->(d)\n",
    "        )\n",
    "\n",
    "        //documentation\n",
    "        foreach(dc in tool.documentation |\n",
    "            CREATE (d:Documentation {url:dc.url, type: dc.type, note: dc.note})\n",
    "            CREATE (t)-[:Documentation]->(d)\n",
    "        )\n",
    "        \",\n",
    "        {batchSize:1000, iterateList:true}) YIELD timeTaken, batches, committedOperations RETURN timeTaken, batches, committedOperations\n",
    "    \"\"\"\n",
    "res = graph_db.run(commande)\n",
    "print(res.to_table());"
   ]
  },
  {
   "cell_type": "markdown",
   "id": "17ca46c3",
   "metadata": {},
   "source": [
    "### Quelques infos sur la base de donnée une fois importée:"
   ]
  },
  {
   "cell_type": "code",
   "execution_count": 15,
   "id": "ee23c703",
   "metadata": {},
   "outputs": [
    {
     "name": "stdout",
     "output_type": "stream",
     "text": [
      " Node_type          | Count \r\n",
      "--------------------|-------\r\n",
      " ['Credit']         | 30025 \r\n",
      " ['Documentation']  | 14783 \r\n",
      " ['Download']       |  5213 \r\n",
      " ['EditPermission'] | 22240 \r\n",
      " ['Function']       | 23104 \r\n",
      " ['IO']             |   559 \r\n",
      " ['Language']       |    44 \r\n",
      " ['Link']           | 11347 \r\n",
      " ['Metadata']       | 23178 \r\n",
      " ['OS']             |     3 \r\n",
      " ['Operation']      |   694 \r\n",
      " ['Publication']    | 23178 \r\n",
      " ['Tool']           | 22062 \r\n",
      " ['ToolType']       |    15 \r\n",
      " ['Topic']          |   423 \r\n",
      "\n"
     ]
    }
   ],
   "source": [
    "print(graph_db.run(\"\"\"MATCH (n) RETURN Labels(n) AS Node_type, Count(n) AS Count ORDER BY Node_type ASC\"\"\").to_table())"
   ]
  },
  {
   "cell_type": "code",
   "execution_count": 16,
   "id": "c6df3818",
   "metadata": {},
   "outputs": [
    {
     "name": "stdout",
     "output_type": "stream",
     "text": [
      " Relation_type  | Count \r\n",
      "----------------|-------\r\n",
      " Credit         | 30025 \r\n",
      " Documentation  | 14783 \r\n",
      " Download       |  5213 \r\n",
      " EditPermission | 22240 \r\n",
      " Language       | 18542 \r\n",
      " Link           | 11347 \r\n",
      " Metadata       | 23178 \r\n",
      " OS             | 35123 \r\n",
      " Publication    | 23178 \r\n",
      " ToolType       | 22450 \r\n",
      " Topic          | 68651 \r\n",
      " doOperation    | 48769 \r\n",
      " hasFunction    | 23104 \r\n",
      " inputOf        |  4294 \r\n",
      " outputOf       |  4092 \r\n",
      "\n"
     ]
    }
   ],
   "source": [
    "print(graph_db.run(\"\"\"MATCH ()-[r]->() RETURN Type(r) AS Relation_type, Count(r) AS Count ORDER BY Relation_type ASC\"\"\").to_table())"
   ]
  },
  {
   "cell_type": "code",
   "execution_count": null,
   "id": "d138d546",
   "metadata": {},
   "outputs": [],
   "source": []
  }
 ],
 "metadata": {
  "kernelspec": {
   "display_name": "Python 3 (ipykernel)",
   "language": "python",
   "name": "python3"
  },
  "language_info": {
   "codemirror_mode": {
    "name": "ipython",
    "version": 3
   },
   "file_extension": ".py",
   "mimetype": "text/x-python",
   "name": "python",
   "nbconvert_exporter": "python",
   "pygments_lexer": "ipython3",
   "version": "3.9.7"
  }
 },
 "nbformat": 4,
 "nbformat_minor": 5
}