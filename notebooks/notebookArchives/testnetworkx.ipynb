{
 "cells": [
  {
   "cell_type": "code",
   "execution_count": 1,
   "id": "d2d4c8d0",
   "metadata": {},
   "outputs": [],
   "source": [
    "import json\n",
    "import networkx\n",
    "from networkx.readwrite import json_graph"
   ]
  },
  {
   "cell_type": "code",
   "execution_count": 20,
   "id": "07fef96e",
   "metadata": {},
   "outputs": [
    {
     "name": "stdout",
     "output_type": "stream",
     "text": [
      "{'directed': False, 'multigraph': False, 'graph': {}, 'nodes': [{'data': {'x': 0, 'y': 0}, 'id': 1}, {'data': {'x': 0, 'y': 2}, 'id': 2}, {'data': {'x': 1, 'y': 2}, 'id': 3}, {'id': 4}, {'data': {'x': 1, 'y': 2}, 'id': 7}, {'id': 9}], 'links': [{'source': 1, 'target': 2}, {'source': 1, 'target': 3}, {'source': 1, 'target': 4}, {'source': 1, 'target': 9}, {'source': 1, 'target': 7}, {'source': 2, 'target': 4}, {'source': 2, 'target': 9}]}\n",
      "Graph with 6 nodes and 7 edges\n"
     ]
    }
   ],
   "source": [
    "class usernode():\n",
    "    def __init__(self, x, y):\n",
    "        self.x = x\n",
    "        self.y = y\n",
    "        \n",
    "    def asdict(self):\n",
    "        return {'x': self.x, 'y': self.y}  \n",
    "    \n",
    "    \n",
    "        \n",
    "# To create an empty undirected graph\n",
    "G = networkx.Graph()\n",
    "   \n",
    "# To add a node\n",
    "\n",
    "usernodeDict1 = usernode(1,2).asdict()\n",
    "\n",
    "G.add_node(1,data=usernode(0,0).asdict())\n",
    "G.add_node(2,data=usernode(0,2).asdict())\n",
    "G.add_node(3,data=usernodeDict1)\n",
    "G.add_node(4)\n",
    "G.add_node(7,data=usernodeDict1)\n",
    "G.add_node(9)\n",
    "   \n",
    "# To add an edge\n",
    "# Note graph is undirected\n",
    "# Hence order of nodes in edge doesn't matter\n",
    "G.add_edge(1,2)\n",
    "G.add_edge(3,1)\n",
    "G.add_edge(2,4)\n",
    "G.add_edge(4,1)\n",
    "G.add_edge(9,1)\n",
    "G.add_edge(1,7)\n",
    "G.add_edge(2,9)\n",
    "\n",
    "\n",
    "#https://networkx.org/documentation/stable/reference/readwrite/json_graph.html\n",
    "def save_json_file(filename,graph):\n",
    "    g = graph\n",
    "    g_json = json_graph.node_link_data(g)\n",
    "    json.dump(g_json,open(filename,'w'),indent=2)\n",
    "    \n",
    "def read_json_file(filename):\n",
    "    with open(filename) as f:\n",
    "        js_graph = json.load(f)\n",
    "        print(js_graph)\n",
    "    return json_graph.node_link_graph(js_graph)    \n",
    "jfile=\"g.json\"\n",
    "\n",
    "save_json_file(jfile,G) \n",
    "G=read_json_file(jfile) \n",
    "\n",
    "print(G)"
   ]
  },
  {
   "cell_type": "code",
   "execution_count": 14,
   "id": "fb11d756",
   "metadata": {},
   "outputs": [
    {
     "name": "stdout",
     "output_type": "stream",
     "text": [
      "#1\n",
      "[1, 2, 3, 4, 7, 9]\n",
      "#2\n",
      "[(1, 2), (1, 3), (1, 4), (1, 9), (1, 7), (2, 4), (2, 9)]\n",
      "#3\n",
      "[1, 2, 3, 4, 7]\n",
      "#4\n",
      "[(1, 3), (1, 4), (1, 7), (2, 4)]\n",
      "#5\n",
      "5\n",
      "#6\n",
      "4\n",
      "#7\n",
      "1\n",
      "#8\n",
      "<dict_keyiterator object at 0xffff805077c0>\n"
     ]
    }
   ],
   "source": [
    "   \n",
    "# To get all the nodes of a graph\n",
    "node_list = G.nodes()\n",
    "print(\"#1\")\n",
    "print(node_list)\n",
    "   \n",
    "# To get all the edges of a graph\n",
    "edge_list = G.edges()\n",
    "print(\"#2\")\n",
    "print(edge_list)\n",
    "   \n",
    "# To remove a node of a graph\n",
    "G.remove_node(9)\n",
    "node_list = G.nodes()\n",
    "print(\"#3\")\n",
    "print(node_list)\n",
    "   \n",
    "# To remove an edge of a graph\n",
    "G.remove_edge(1,2)\n",
    "edge_list = G.edges()\n",
    "print(\"#4\")\n",
    "print(edge_list)\n",
    "   \n",
    "# To find number of nodes\n",
    "n = G.number_of_nodes()\n",
    "print(\"#5\")\n",
    "print(n)\n",
    "   \n",
    "# To find number of edges\n",
    "m = G.number_of_edges()\n",
    "print(\"#6\")\n",
    "print(m)\n",
    "   \n",
    "# To find degree of a node\n",
    "# d will store degree of node 2\n",
    "d = G.degree(2)\n",
    "print(\"#7\")\n",
    "print(d)\n",
    "  \n",
    "# To find all the neighbor of a node\n",
    "neighbor_list = G.neighbors(2)\n",
    "print(\"#8\")\n",
    "print(neighbor_list)\n"
   ]
  },
  {
   "cell_type": "code",
   "execution_count": null,
   "id": "ce40c2b8",
   "metadata": {},
   "outputs": [],
   "source": []
  }
 ],
 "metadata": {
  "kernelspec": {
   "display_name": "Python 3 (ipykernel)",
   "language": "python",
   "name": "python3"
  },
  "language_info": {
   "codemirror_mode": {
    "name": "ipython",
    "version": 3
   },
   "file_extension": ".py",
   "mimetype": "text/x-python",
   "name": "python",
   "nbconvert_exporter": "python",
   "pygments_lexer": "ipython3",
   "version": "3.9.7"
  }
 },
 "nbformat": 4,
 "nbformat_minor": 5
}
