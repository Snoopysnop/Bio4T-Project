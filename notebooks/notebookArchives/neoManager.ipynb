{
 "cells": [
  {
   "cell_type": "code",
   "execution_count": 7,
   "id": "ba340915-cbd6-4ad2-afc8-ea70ae2b72bf",
   "metadata": {},
   "outputs": [],
   "source": [
    "from neo4j import GraphDatabase\n",
    "IP=\"bolt://172.17.0.3:7687\"\n",
    "USER=\"neo4j\"\n",
    "PASSWORD=\"ahVUWKK8kKDhFUNz\"\n",
    "driver = GraphDatabase.driver(IP, auth=(USER, PASSWORD))"
   ]
  },
  {
   "cell_type": "code",
   "execution_count": 8,
   "id": "b35b4aae-c5eb-4eea-bb67-dc551e66ca3f",
   "metadata": {},
   "outputs": [],
   "source": [
    "def clear_database(tx):\n",
    "    tx.run(\"\"\"MATCH (n) DETACH DELETE (n)\"\"\")\n",
    "\n",
    "def add_tool(tx, name):\n",
    "    tx.run(\"CREATE (node:Tool {name: $name}) RETURN node\", name=name )\n",
    "\n",
    "def print_tools(tx):\n",
    "    res = \"\"\n",
    "    for record in tx.run(\"\"\"MATCH (t:Tool) RETURN t.name LIMIT 100\"\"\"):\n",
    "        res = res + \"; \" + record[\"t.name\"]\n",
    "    print(res)\n",
    "\n",
    "def lambda_request(tx, s):\n",
    "    query_result = tx.run(s)\n",
    "    return query_result"
   ]
  },
  {
   "cell_type": "code",
   "execution_count": 9,
   "id": "2bb0d51d-dabe-4716-958d-eb6aa10f3452",
   "metadata": {},
   "outputs": [],
   "source": [
    "with driver.session() as session:\n",
    "    session.write_transaction(clear_database)"
   ]
  },
  {
   "cell_type": "code",
   "execution_count": 10,
   "id": "b44526cb-b27e-4a62-9aab-510e03daeae9",
   "metadata": {},
   "outputs": [
    {
     "name": "stdout",
     "output_type": "stream",
     "text": [
      "; tool1\n"
     ]
    }
   ],
   "source": [
    "with driver.session() as session:\n",
    "    session.write_transaction(clear_database)\n",
    "    session.write_transaction(add_tool, \"tool1\")\n",
    "    session.write_transaction(print_tools)"
   ]
  },
  {
   "cell_type": "code",
   "execution_count": 11,
   "id": "99d282a9-fd4e-48ab-aa6c-e0138d27a1ef",
   "metadata": {},
   "outputs": [
    {
     "name": "stdout",
     "output_type": "stream",
     "text": [
      "; tool1; t1\n"
     ]
    }
   ],
   "source": [
    "myRequest = \"\"\"CREATE (t1:Tool {name:\"t1\"})-[:FUNCTION]->(f1:Function {name:\"f1\"})\n",
    "                RETURN t1.name, f1.name\"\"\"\n",
    "\n",
    "with driver.session() as session:\n",
    "    query_result = session.write_transaction(lambda_request, myRequest)\n",
    "    for returning in query_result:\n",
    "        print(returning[\"t1.name\"])\n",
    "    session.write_transaction(print_tools)"
   ]
  },
  {
   "cell_type": "code",
   "execution_count": 12,
   "id": "b56d2fe4-956c-453c-9925-c71714b33e46",
   "metadata": {},
   "outputs": [],
   "source": [
    "driver.close()"
   ]
  },
  {
   "cell_type": "code",
   "execution_count": null,
   "id": "8755f0a6-d588-4aae-b984-9ed1d298700a",
   "metadata": {},
   "outputs": [],
   "source": []
  }
 ],
 "metadata": {
  "kernelspec": {
   "display_name": "Python 3 (ipykernel)",
   "language": "python",
   "name": "python3"
  },
  "language_info": {
   "codemirror_mode": {
    "name": "ipython",
    "version": 3
   },
   "file_extension": ".py",
   "mimetype": "text/x-python",
   "name": "python",
   "nbconvert_exporter": "python",
   "pygments_lexer": "ipython3",
   "version": "3.9.7"
  }
 },
 "nbformat": 4,
 "nbformat_minor": 5
}
