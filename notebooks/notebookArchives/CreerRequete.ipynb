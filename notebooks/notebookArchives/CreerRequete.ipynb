{
 "cells": [
  {
   "cell_type": "code",
   "execution_count": 110,
   "id": "e4553e3e",
   "metadata": {},
   "outputs": [],
   "source": [
    "from py2neo import *\n",
    "import json\n",
    "IP=\"bolt://db:7687\"\n",
    "USER=\"neo4j\"\n",
    "PASSWORD=\"pass\"\n",
    "graph_db = Graph(IP, auth=(USER, PASSWORD))"
   ]
  },
  {
   "cell_type": "markdown",
   "id": "69b7a08d",
   "metadata": {},
   "source": [
    "## Objet Param"
   ]
  },
  {
   "cell_type": "code",
   "execution_count": 111,
   "id": "d17bce0c",
   "metadata": {},
   "outputs": [],
   "source": [
    "class Param:\n",
    "    def __init__(self,entree=\"\",sortie=\"\",longueur_max=5,limit=10):\n",
    "        self.entree = entree\n",
    "        self.sortie = sortie\n",
    "        self.longueur_max = longueur_max\n",
    "        self.limit = limit\n",
    "        \n",
    "    def set_Entree(self,entree):\n",
    "        self.entree = entree\n",
    "        \n",
    "    def set_Sortie(self,sortie):\n",
    "        self.sortie = sortie\n",
    "    \n",
    "    def set_Longueur_max(self,longueur_max):\n",
    "        self.longueur_max = longueur_max\n",
    "    \n",
    "    def set_Limit(self, limit):\n",
    "        self.limit = limit\n",
    "        \n"
   ]
  },
  {
   "cell_type": "code",
   "execution_count": 112,
   "id": "62b326e8",
   "metadata": {},
   "outputs": [
    {
     "name": "stdout",
     "output_type": "stream",
     "text": [
      "Sequence set\n",
      "Alignment\n",
      "5\n",
      "100\n"
     ]
    }
   ],
   "source": [
    "p1 = Param(\"Sequence set\", \"Alignment\", 5,100)\n",
    "\n",
    "print(p1.entree)\n",
    "print(p1.sortie)\n",
    "print(p1.longueur_max)\n",
    "print(p1.limit)"
   ]
  },
  {
   "cell_type": "code",
   "execution_count": 113,
   "id": "4201f043",
   "metadata": {},
   "outputs": [],
   "source": [
    "p2 = Param(0,\"Alignment\",0,100)"
   ]
  },
  {
   "cell_type": "markdown",
   "id": "c5b19fd8",
   "metadata": {},
   "source": [
    "## Pour creer la requete"
   ]
  },
  {
   "cell_type": "code",
   "execution_count": 114,
   "id": "98d0d76c",
   "metadata": {},
   "outputs": [],
   "source": [
    "class Requete:\n",
    "    def __init__(self,param):\n",
    "        self.requete = \"\"\n",
    "        self.param = param\n",
    "        \n",
    "    def creer_Requete(self):\n",
    "        #entree\n",
    "        self.requete = self.requete + f\"\"\"MATCH path=(i:IO {{term: '{self.param.entree}'}})\"\"\"\n",
    "        #longueur_max\n",
    "        self.requete = self.requete + f\"\"\"-[:inputOf|outputOf *1..{self.param.longueur_max}]->\"\"\"\n",
    "        #sortie\n",
    "        self.requete = self.requete + f\"\"\"(o:IO {{term: '{self.param.sortie}'}}) \\n\"\"\"\n",
    "        #du blabla pour pas que ca boucle\n",
    "        self.requete = self.requete + \"\"\" WHERE NONE (n IN nodes(path) WHERE size([x IN nodes(path) WHERE n = x]) > 1 ) \\n RETURN path AS p ORDER BY length(path) ASC\\n\"\"\"\n",
    "        #limit\n",
    "        self.requete = self.requete + f\"\"\"LIMIT {self.param.limit}\"\"\"\n",
    "    \n",
    "        return self.param"
   ]
  },
  {
   "cell_type": "code",
   "execution_count": 115,
   "id": "38a309a8",
   "metadata": {},
   "outputs": [
    {
     "data": {
      "text/plain": [
       "<__main__.Param at 0x7fc6063894c0>"
      ]
     },
     "execution_count": 115,
     "metadata": {},
     "output_type": "execute_result"
    }
   ],
   "source": [
    "r1 = Requete(p1)\n",
    "r1.creer_Requete()"
   ]
  },
  {
   "cell_type": "code",
   "execution_count": 116,
   "id": "3a9b07b5",
   "metadata": {},
   "outputs": [],
   "source": [
    "r = r1.requete"
   ]
  },
  {
   "cell_type": "code",
   "execution_count": 117,
   "id": "c8c4122b",
   "metadata": {},
   "outputs": [
    {
     "data": {
      "text/html": [
       "<table><tr><th>p</th></tr><tr><td style=\"text-align:left\">(_10411)-[:inputOf {}]-&gt;(_83988)-[:outputOf {}]-&gt;(_10790)</td></tr><tr><td style=\"text-align:left\">(_10411)-[:inputOf {}]-&gt;(_81550)-[:outputOf {}]-&gt;(_10335)-[:inputOf {}]-&gt;(_83649)-[:outputOf {}]-&gt;(_10790)</td></tr><tr><td style=\"text-align:left\">(_10411)-[:inputOf {}]-&gt;(_92092)-[:outputOf {}]-&gt;(_11051)-[:inputOf {}]-&gt;(_82165)-[:outputOf {}]-&gt;(_10790)</td></tr></table>"
      ],
      "text/plain": [
       " p                                                                                                          \n",
       "------------------------------------------------------------------------------------------------------------\n",
       " (_10411)-[:inputOf {}]->(_83988)-[:outputOf {}]->(_10790)                                                  \n",
       " (_10411)-[:inputOf {}]->(_81550)-[:outputOf {}]->(_10335)-[:inputOf {}]->(_83649)-[:outputOf {}]->(_10790) \n",
       " (_10411)-[:inputOf {}]->(_92092)-[:outputOf {}]->(_11051)-[:inputOf {}]->(_82165)-[:outputOf {}]->(_10790) "
      ]
     },
     "execution_count": 117,
     "metadata": {},
     "output_type": "execute_result"
    }
   ],
   "source": [
    "graph_db.run(r)"
   ]
  },
  {
   "cell_type": "code",
   "execution_count": 118,
   "id": "dda67628",
   "metadata": {},
   "outputs": [
    {
     "name": "stdout",
     "output_type": "stream",
     "text": [
      "MATCH path=(i:IO {term: 'Sequence set'})-[:inputOf|outputOf *1..5]->(o:IO {term: 'Alignment'}) \n",
      " WHERE NONE (n IN nodes(path) WHERE size([x IN nodes(path) WHERE n = x]) > 1 ) \n",
      " RETURN path AS p ORDER BY length(path) ASC\n",
      "LIMIT 100\n"
     ]
    }
   ],
   "source": [
    "print(r1.requete)"
   ]
  },
  {
   "cell_type": "code",
   "execution_count": null,
   "id": "9f3e0188",
   "metadata": {},
   "outputs": [],
   "source": []
  }
 ],
 "metadata": {
  "kernelspec": {
   "display_name": "Python 3 (ipykernel)",
   "language": "python",
   "name": "python3"
  },
  "language_info": {
   "codemirror_mode": {
    "name": "ipython",
    "version": 3
   },
   "file_extension": ".py",
   "mimetype": "text/x-python",
   "name": "python",
   "nbconvert_exporter": "python",
   "pygments_lexer": "ipython3",
   "version": "3.9.7"
  }
 },
 "nbformat": 4,
 "nbformat_minor": 5
}
